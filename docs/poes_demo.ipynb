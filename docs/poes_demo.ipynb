{
 "cells": [
  {
   "cell_type": "markdown",
   "metadata": {},
   "source": [
    "# This notebook demonstrates how to download the netcdf POES data files (in netcdf format) for a given date range (there are multiple files per day), process them to get auroral boundary (equatorward) and plot it!\n"
   ]
  },
  {
   "cell_type": "code",
   "execution_count": 1,
   "metadata": {
    "collapsed": true
   },
   "outputs": [],
   "source": [
    "import os\n",
    "import datetime\n",
    "from poes import dwnld_poes, get_aur_bnd"
   ]
  },
  {
   "cell_type": "code",
   "execution_count": 2,
   "metadata": {},
   "outputs": [
    {
     "name": "stdout",
     "output_type": "stream",
     "text": [
      "downloading file from url-->http://satdat.ngdc.noaa.gov/sem/poes/data/processed/ngdc/uncorrected/full/2016/noaa18/poes_n18_20160409_proc.nc\n",
      "moving file to destination folder poes_n18_20160409_proc.nc\n",
      "outDir--> /tmp/poes/raw\n",
      "downloading file from url-->http://satdat.ngdc.noaa.gov/sem/poes/data/processed/ngdc/uncorrected/full/2016/metop01/poes_m01_20160409_proc.nc\n",
      "moving file to destination folder poes_m01_20160409_proc.nc\n",
      "outDir--> /tmp/poes/raw\n",
      "downloading file from url-->http://satdat.ngdc.noaa.gov/sem/poes/data/processed/ngdc/uncorrected/full/2016/noaa19/poes_n19_20160409_proc.nc\n",
      "moving file to destination folder poes_n19_20160409_proc.nc\n",
      "outDir--> /tmp/poes/raw\n",
      "downloading file from url-->http://satdat.ngdc.noaa.gov/sem/poes/data/processed/ngdc/uncorrected/full/2016/metop02/poes_m02_20160409_proc.nc\n",
      "moving file to destination folder poes_m02_20160409_proc.nc\n",
      "outDir--> /tmp/poes/raw\n",
      "downloading file from url-->http://satdat.ngdc.noaa.gov/sem/poes/data/processed/ngdc/uncorrected/full/2016/noaa15/poes_n15_20160409_proc.nc\n",
      "moving file to destination folder poes_n15_20160409_proc.nc\n",
      "outDir--> /tmp/poes/raw\n"
     ]
    }
   ],
   "source": [
    "# dates to download raw poes files\n",
    "sTimePOES = datetime.datetime( 2016,4,9 )\n",
    "eTimePOES = datetime.datetime( 2016,4,9 )\n",
    "# dir to store raw poes files\n",
    "dayCount = (eTimePOES - sTimePOES).days + 1\n",
    "# Loop through the days and download files\n",
    "for inpDate in (sTimePOES + \\\n",
    "            datetime.timedelta(n) for n in range(dayCount)):\n",
    "    poesDwnldObj = dwnld_poes.PoesDwnld(inpDate)\n",
    "    # NOTE : set a proper outdir otherwise the data\n",
    "    # is saved in the working directory by default\n",
    "    poesFiles = poesDwnldObj.get_all_sat_data(outDir=\"/tmp/poes/raw\")"
   ]
  },
  {
   "cell_type": "code",
   "execution_count": 12,
   "metadata": {},
   "outputs": [
    {
     "name": "stdout",
     "output_type": "stream",
     "text": [
      "fileList not set! Working with poesRawDate & poesRawDir\n"
     ]
    }
   ],
   "source": [
    "# Read data from the POES files\n",
    "# and get the auroral boundary location\n",
    "# by fitting a circle\n",
    "poesRdObj = get_aur_bnd.PoesAur()\n",
    "( poesAllEleDataDF, poesAllProDataDF ) = poesRdObj.read_poes_data_files(\\\n",
    "                                            poesRawDate=sTimePOES,\\\n",
    "                                            poesRawDir=\"/tmp/poes/raw/\" )\n",
    "# Or you can uncomment the line below and read the data!\n",
    "# ( poesAllEleDataDF, poesAllProDataDF ) = poesRdObj.read_poes_data_files(poesFiles)\n",
    "# Get for a given time get the closest satellite passes\n",
    "# We can do this at multiple instances for a given time range/step\n",
    "timeRange = [ poesAllEleDataDF[\"date\"].min(),\\\n",
    "                 poesAllEleDataDF[\"date\"].max() ]\n",
    "# aurPassDF contains closest passes for a given time \n",
    "# for all the satellites in both the hemispheres!\n",
    "aurPassDF = poesRdObj.get_closest_sat_passes( poesAllEleDataDF,\\\n",
    "                                    poesAllProDataDF, timeRange )\n",
    "eqBndLocsDF = poesRdObj.get_nth_ele_eq_bnd_locs( aurPassDF, poesAllEleDataDF )"
   ]
  },
  {
   "cell_type": "code",
   "execution_count": 13,
   "metadata": {},
   "outputs": [
    {
     "data": {
      "text/html": [
       "<div>\n",
       "<table border=\"1\" class=\"dataframe\">\n",
       "  <thead>\n",
       "    <tr style=\"text-align: right;\">\n",
       "      <th></th>\n",
       "      <th>sat</th>\n",
       "      <th>pole_mlat</th>\n",
       "      <th>pole_mlon</th>\n",
       "      <th>pole_mlt</th>\n",
       "      <th>equator_mlat</th>\n",
       "      <th>equator_mlon</th>\n",
       "      <th>equator_mlt</th>\n",
       "      <th>time</th>\n",
       "    </tr>\n",
       "  </thead>\n",
       "  <tbody>\n",
       "    <tr>\n",
       "      <th>0</th>\n",
       "      <td>01</td>\n",
       "      <td>68.45</td>\n",
       "      <td>17.81</td>\n",
       "      <td>21.25</td>\n",
       "      <td>82.80</td>\n",
       "      <td>242.82</td>\n",
       "      <td>12.39</td>\n",
       "      <td>2016-04-09 00:30:00.653</td>\n",
       "    </tr>\n",
       "    <tr>\n",
       "      <th>1</th>\n",
       "      <td>15</td>\n",
       "      <td>68.35</td>\n",
       "      <td>290.06</td>\n",
       "      <td>15.51</td>\n",
       "      <td>52.85</td>\n",
       "      <td>154.55</td>\n",
       "      <td>6.75</td>\n",
       "      <td>2016-04-09 00:30:00.653</td>\n",
       "    </tr>\n",
       "    <tr>\n",
       "      <th>0</th>\n",
       "      <td>01</td>\n",
       "      <td>75.98</td>\n",
       "      <td>10.37</td>\n",
       "      <td>20.80</td>\n",
       "      <td>82.80</td>\n",
       "      <td>242.82</td>\n",
       "      <td>12.39</td>\n",
       "      <td>2016-04-09 01:00:00.653</td>\n",
       "    </tr>\n",
       "    <tr>\n",
       "      <th>1</th>\n",
       "      <td>15</td>\n",
       "      <td>68.35</td>\n",
       "      <td>290.06</td>\n",
       "      <td>15.51</td>\n",
       "      <td>52.85</td>\n",
       "      <td>154.55</td>\n",
       "      <td>6.75</td>\n",
       "      <td>2016-04-09 01:00:00.653</td>\n",
       "    </tr>\n",
       "    <tr>\n",
       "      <th>2</th>\n",
       "      <td>19</td>\n",
       "      <td>61.90</td>\n",
       "      <td>252.63</td>\n",
       "      <td>12.44</td>\n",
       "      <td>NaN</td>\n",
       "      <td>NaN</td>\n",
       "      <td>NaN</td>\n",
       "      <td>2016-04-09 01:00:00.653</td>\n",
       "    </tr>\n",
       "  </tbody>\n",
       "</table>\n",
       "</div>"
      ],
      "text/plain": [
       "  sat  pole_mlat  pole_mlon  pole_mlt  equator_mlat  equator_mlon  \\\n",
       "0  01      68.45      17.81     21.25         82.80        242.82   \n",
       "1  15      68.35     290.06     15.51         52.85        154.55   \n",
       "0  01      75.98      10.37     20.80         82.80        242.82   \n",
       "1  15      68.35     290.06     15.51         52.85        154.55   \n",
       "2  19      61.90     252.63     12.44           NaN           NaN   \n",
       "\n",
       "   equator_mlt                    time  \n",
       "0        12.39 2016-04-09 00:30:00.653  \n",
       "1         6.75 2016-04-09 00:30:00.653  \n",
       "0        12.39 2016-04-09 01:00:00.653  \n",
       "1         6.75 2016-04-09 01:00:00.653  \n",
       "2          NaN 2016-04-09 01:00:00.653  "
      ]
     },
     "execution_count": 13,
     "metadata": {},
     "output_type": "execute_result"
    }
   ],
   "source": [
    "eqBndLocsDF.head()"
   ]
  },
  {
   "cell_type": "code",
   "execution_count": null,
   "metadata": {
    "collapsed": true
   },
   "outputs": [],
   "source": []
  }
 ],
 "metadata": {
  "kernelspec": {
   "display_name": "Python 2",
   "language": "python",
   "name": "python2"
  },
  "language_info": {
   "codemirror_mode": {
    "name": "ipython",
    "version": 2
   },
   "file_extension": ".py",
   "mimetype": "text/x-python",
   "name": "python",
   "nbconvert_exporter": "python",
   "pygments_lexer": "ipython2",
   "version": "2.7.6"
  }
 },
 "nbformat": 4,
 "nbformat_minor": 2
}
