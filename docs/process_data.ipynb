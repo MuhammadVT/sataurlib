{
 "cells": [
  {
   "cell_type": "markdown",
   "metadata": {},
   "source": [
    "# This notebook demonstrates how to read the netcdf SSUSI and TIMED data files (in netcdf format) for a given date range (there are multiple files per day), convert them into a single (more user friendly) csv file.\n"
   ]
  },
  {
   "cell_type": "code",
   "execution_count": 1,
   "metadata": {},
   "outputs": [],
   "source": [
    "import os\n",
    "import datetime\n",
    "from imagers.ssusi import read_ssusi\n",
    "from imagers.timed import read_timed_guvi"
   ]
  },
  {
   "cell_type": "code",
   "execution_count": 2,
   "metadata": {},
   "outputs": [
    {
     "name": "stdout",
     "output_type": "stream",
     "text": [
      "processing data -->  2011-04-09  sat--> f16\n",
      "processing data -->  2011-04-09  sat--> f17\n",
      "processing data -->  2011-04-09  sat--> f18\n"
     ]
    }
   ],
   "source": [
    "# We assume you already downloaded the raw files\n",
    "# Refer the \"download_files\" notebook in case\n",
    "# you already haven't!\n",
    "# NOTE : ONLY FILES in specific format\n",
    "# can be read. So make sure you download\n",
    "# using the procedure defined in the \n",
    "# \"download_files\" notebook.\n",
    "# The directory where files are stored\n",
    "rawFileDir = \"/tmp/ssusi/\" # Make sure you have this dir or create it\n",
    "prcsdFileDir = \"/tmp/ssusi/prcsd/\"\n",
    "satList = [ \"f16\", \"f17\", \"f18\" ]\n",
    "currDate = datetime.datetime( 2011, 4, 9 )\n",
    "endDate = datetime.datetime( 2011, 4, 9 )\n",
    "tDelta = datetime.timedelta(days=1)\n",
    "while currDate <= endDate:\n",
    "    for currSat in satList:\n",
    "        currDir = rawFileDir + currSat + \"/\"\n",
    "        for root, dirs, files in os.walk(currDir):\n",
    "            for nd, dd in enumerate(dirs):\n",
    "                if currDate.strftime(\"%Y%m%d\") not in dd:\n",
    "                    continue\n",
    "                print \"processing data --> \",\\\n",
    "                         currDate.strftime(\"%Y-%m-%d\"), \" sat-->\", currSat\n",
    "                ssRdObj = read_ssusi.ProcessData( [root + dd + \"/\"],\\\n",
    "                             prcsdFileDir, currDate )\n",
    "                ssRdObj.processed_data_to_file()\n",
    "    currDate += tDelta"
   ]
  },
  {
   "cell_type": "code",
   "execution_count": 4,
   "metadata": {},
   "outputs": [],
   "source": [
    "# The directory where files are stored\n",
    "# NOTE : ONLY FILES in specific format\n",
    "# can be read. So make sure you download\n",
    "# using the procedure defined in the \n",
    "# \"download_files\" notebook.\n",
    "rawFileDir = \"/tmp/timed/\" # Make sure you have this dir or create it\n",
    "prcsdFileDir = \"/tmp/timed/prcsd/\" # Make sure you have this dir or create it\n",
    "currDate = datetime.datetime( 2002, 3, 18 )\n",
    "endDate = datetime.datetime( 2002, 3, 18 )\n",
    "tDelta = datetime.timedelta(days=1)\n",
    "while currDate <= endDate:\n",
    "    for root, dirs, files in os.walk(rawFileDir):\n",
    "        for nd, dd in enumerate(dirs):\n",
    "            if currDate.strftime(\"%Y%m%d\") not in dd:\n",
    "                continue\n",
    "            print \"processing data --> \",\\\n",
    "                     currDate.strftime(\"%Y-%m-%d\")\n",
    "            tgRdObj = read_timed_guvi.ProcessTGData( [root + dd + \"/\"],\\\n",
    "                         prcsdFileDir, currDate )\n",
    "            tgRdObj.processed_data_to_file()\n",
    "    currDate += tDelta"
   ]
  },
  {
   "cell_type": "code",
   "execution_count": null,
   "metadata": {
    "collapsed": true
   },
   "outputs": [],
   "source": []
  }
 ],
 "metadata": {
  "kernelspec": {
   "display_name": "Python 2",
   "language": "python",
   "name": "python2"
  },
  "language_info": {
   "codemirror_mode": {
    "name": "ipython",
    "version": 2
   },
   "file_extension": ".py",
   "mimetype": "text/x-python",
   "name": "python",
   "nbconvert_exporter": "python",
   "pygments_lexer": "ipython2",
   "version": "2.7.6"
  }
 },
 "nbformat": 4,
 "nbformat_minor": 2
}
