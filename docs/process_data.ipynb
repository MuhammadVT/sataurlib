{
 "cells": [
  {
   "cell_type": "markdown",
   "metadata": {},
   "source": [
    "# This notebook demonstrates how to read the netcdf SSUSI and TIMED data files (in netcdf format) for a given date range (there are multiple files per day), convert them into a single (more user friendly) csv file.\n"
   ]
  },
  {
   "cell_type": "code",
   "execution_count": 1,
   "metadata": {
    "collapsed": true
   },
   "outputs": [],
   "source": [
    "import os\n",
    "import datetime\n",
    "from imagers.ssusi import read_ssusi\n",
    "from imagers.timed import read_timed_guvi"
   ]
  },
  {
   "cell_type": "code",
   "execution_count": 3,
   "metadata": {},
   "outputs": [
    {
     "name": "stdout",
     "output_type": "stream",
     "text": [
      "processing data -->  2016-12-01  sat--> f17\n",
      "currently working with file--> /tmp/ssusi/f17/20161201/PS.APL_V0116S024CE0008_SC.U_DI.A_GP.F17-SSUSI_PA.APL-SDR-DISK_DD.20161201_SN.51991-00_DF.NC\n",
      "processing---> 1 / 14 files\n",
      "FILE Exists already! deleting and overwriting\n",
      "currently working with file--> /tmp/ssusi/f17/20161201/PS.APL_V0116S024CE0008_SC.U_DI.A_GP.F17-SSUSI_PA.APL-SDR-DISK_DD.20161201_SN.51985-00_DF.NC\n",
      "processing---> 2 / 14 files\n",
      "currently working with file--> /tmp/ssusi/f17/20161201/PS.APL_V0116S024CE0008_SC.U_DI.A_GP.F17-SSUSI_PA.APL-SDR-DISK_DD.20161201_SN.51986-00_DF.NC\n",
      "processing---> 3 / 14 files\n",
      "currently working with file--> /tmp/ssusi/f17/20161201/PS.APL_V0116S024CE0008_SC.U_DI.A_GP.F17-SSUSI_PA.APL-SDR-DISK_DD.20161201_SN.51981-00_DF.NC\n",
      "processing---> 4 / 14 files\n",
      "currently working with file--> /tmp/ssusi/f17/20161201/PS.APL_V0116S024CE0008_SC.U_DI.A_GP.F17-SSUSI_PA.APL-SDR-DISK_DD.20161201_SN.51988-00_DF.NC\n",
      "processing---> 5 / 14 files\n",
      "currently working with file--> /tmp/ssusi/f17/20161201/PS.APL_V0116S024CE0008_SC.U_DI.A_GP.F17-SSUSI_PA.APL-SDR-DISK_DD.20161201_SN.51979-00_DF.NC\n",
      "processing---> 6 / 14 files\n",
      "currently working with file--> /tmp/ssusi/f17/20161201/PS.APL_V0116S024CE0008_SC.U_DI.A_GP.F17-SSUSI_PA.APL-SDR-DISK_DD.20161201_SN.51989-00_DF.NC\n",
      "processing---> 7 / 14 files\n",
      "currently working with file--> /tmp/ssusi/f17/20161201/PS.APL_V0116S024CE0008_SC.U_DI.A_GP.F17-SSUSI_PA.APL-SDR-DISK_DD.20161201_SN.51982-00_DF.NC\n",
      "processing---> 8 / 14 files\n",
      "currently working with file--> /tmp/ssusi/f17/20161201/PS.APL_V0116S024CE0008_SC.U_DI.A_GP.F17-SSUSI_PA.APL-SDR-DISK_DD.20161201_SN.51984-00_DF.NC\n",
      "processing---> 9 / 14 files\n",
      "currently working with file--> /tmp/ssusi/f17/20161201/PS.APL_V0116S024CE0008_SC.U_DI.A_GP.F17-SSUSI_PA.APL-SDR-DISK_DD.20161201_SN.51987-00_DF.NC\n",
      "processing---> 10 / 14 files\n",
      "currently working with file--> /tmp/ssusi/f17/20161201/PS.APL_V0116S024CE0008_SC.U_DI.A_GP.F17-SSUSI_PA.APL-SDR-DISK_DD.20161201_SN.51983-00_DF.NC\n",
      "processing---> 11 / 14 files\n",
      "currently working with file--> /tmp/ssusi/f17/20161201/PS.APL_V0116S024CE0008_SC.U_DI.A_GP.F17-SSUSI_PA.APL-SDR-DISK_DD.20161201_SN.51980-00_DF.NC\n",
      "processing---> 12 / 14 files\n",
      "currently working with file--> /tmp/ssusi/f17/20161201/PS.APL_V0116S024CE0008_SC.U_DI.A_GP.F17-SSUSI_PA.APL-SDR-DISK_DD.20161201_SN.51990-00_DF.NC\n",
      "processing---> 13 / 14 files\n",
      "currently working with file--> /tmp/ssusi/f17/20161201/PS.APL_V0116S024CE0008_SC.U_DI.A_GP.F17-SSUSI_PA.APL-SDR-DISK_DD.20161201_SN.51992-00_DF.NC\n",
      "processing---> 14 / 14 files\n",
      "processing data -->  2016-12-01  sat--> f18\n",
      "currently working with file--> /tmp/ssusi/f18/20161201/PS.APL_V0116S024CB0005_SC.U_DI.A_GP.F18-SSUSI_PA.APL-SDR-DISK_DD.20161201_SN.36718-00_DF.NC\n",
      "processing---> 1 / 14 files\n",
      "FILE Exists already! deleting and overwriting\n",
      "currently working with file--> /tmp/ssusi/f18/20161201/PS.APL_V0116S024CB0005_SC.U_DI.A_GP.F18-SSUSI_PA.APL-SDR-DISK_DD.20161201_SN.36726-00_DF.NC\n",
      "processing---> 2 / 14 files\n",
      "currently working with file--> /tmp/ssusi/f18/20161201/PS.APL_V0116S024CB0005_SC.U_DI.A_GP.F18-SSUSI_PA.APL-SDR-DISK_DD.20161201_SN.36720-00_DF.NC\n",
      "processing---> 3 / 14 files\n",
      "currently working with file--> /tmp/ssusi/f18/20161201/PS.APL_V0116S024CB0005_SC.U_DI.A_GP.F18-SSUSI_PA.APL-SDR-DISK_DD.20161201_SN.36728-00_DF.NC\n",
      "processing---> 4 / 14 files\n",
      "currently working with file--> /tmp/ssusi/f18/20161201/PS.APL_V0116S024CB0005_SC.U_DI.A_GP.F18-SSUSI_PA.APL-SDR-DISK_DD.20161201_SN.36730-00_DF.NC\n",
      "processing---> 5 / 14 files\n",
      "currently working with file--> /tmp/ssusi/f18/20161201/PS.APL_V0116S024CB0005_SC.U_DI.A_GP.F18-SSUSI_PA.APL-SDR-DISK_DD.20161201_SN.36721-00_DF.NC\n",
      "processing---> 6 / 14 files\n",
      "currently working with file--> /tmp/ssusi/f18/20161201/PS.APL_V0116S024CB0005_SC.U_DI.A_GP.F18-SSUSI_PA.APL-SDR-DISK_DD.20161201_SN.36717-00_DF.NC\n",
      "processing---> 7 / 14 files\n",
      "currently working with file--> /tmp/ssusi/f18/20161201/PS.APL_V0116S024CB0005_SC.U_DI.A_GP.F18-SSUSI_PA.APL-SDR-DISK_DD.20161201_SN.36729-00_DF.NC\n",
      "processing---> 8 / 14 files\n",
      "currently working with file--> /tmp/ssusi/f18/20161201/PS.APL_V0116S024CB0005_SC.U_DI.A_GP.F18-SSUSI_PA.APL-SDR-DISK_DD.20161201_SN.36725-00_DF.NC\n",
      "processing---> 9 / 14 files\n",
      "currently working with file--> /tmp/ssusi/f18/20161201/PS.APL_V0116S024CB0005_SC.U_DI.A_GP.F18-SSUSI_PA.APL-SDR-DISK_DD.20161201_SN.36722-00_DF.NC\n",
      "processing---> 10 / 14 files\n",
      "currently working with file--> /tmp/ssusi/f18/20161201/PS.APL_V0116S024CB0005_SC.U_DI.A_GP.F18-SSUSI_PA.APL-SDR-DISK_DD.20161201_SN.36724-00_DF.NC\n",
      "processing---> 11 / 14 files\n",
      "currently working with file--> /tmp/ssusi/f18/20161201/PS.APL_V0116S024CB0005_SC.U_DI.A_GP.F18-SSUSI_PA.APL-SDR-DISK_DD.20161201_SN.36727-00_DF.NC\n",
      "processing---> 12 / 14 files\n",
      "currently working with file--> /tmp/ssusi/f18/20161201/PS.APL_V0116S024CB0005_SC.U_DI.A_GP.F18-SSUSI_PA.APL-SDR-DISK_DD.20161201_SN.36723-00_DF.NC\n",
      "processing---> 13 / 14 files\n",
      "currently working with file--> /tmp/ssusi/f18/20161201/PS.APL_V0116S024CB0005_SC.U_DI.A_GP.F18-SSUSI_PA.APL-SDR-DISK_DD.20161201_SN.36719-00_DF.NC\n",
      "processing---> 14 / 14 files\n"
     ]
    }
   ],
   "source": [
    "# We assume you already downloaded the raw files\n",
    "# Refer the \"download_files\" notebook in case\n",
    "# you already haven't!\n",
    "# NOTE : ONLY FILES in specific format\n",
    "# can be read. So make sure you download\n",
    "# using the procedure defined in the \n",
    "# \"download_files\" notebook.\n",
    "# The directory where files are stored\n",
    "rawFileDir = \"/tmp/ssusi/\" # Make sure you have this dir or create it\n",
    "prcsdFileDir = \"/tmp/ssusi/prcsd/\"\n",
    "satList = [ \"f16\", \"f17\", \"f18\" ]\n",
    "currDate = datetime.datetime(  2016, 12, 1 )\n",
    "endDate = datetime.datetime(  2016, 12, 1 )\n",
    "tDelta = datetime.timedelta(days=1)\n",
    "while currDate <= endDate:\n",
    "    for currSat in satList:\n",
    "        currDir = rawFileDir + currSat + \"/\"\n",
    "        for root, dirs, files in os.walk(currDir):\n",
    "            for nd, dd in enumerate(dirs):\n",
    "                if currDate.strftime(\"%Y%m%d\") not in dd:\n",
    "                    continue\n",
    "                print \"processing data --> \",\\\n",
    "                         currDate.strftime(\"%Y-%m-%d\"), \" sat-->\", currSat\n",
    "                ssRdObj = read_ssusi.ProcessData( [root + dd + \"/\"],\\\n",
    "                             prcsdFileDir, currDate )\n",
    "                ssRdObj.processed_data_to_file(keepRawFiles=True)\n",
    "    currDate += tDelta"
   ]
  },
  {
   "cell_type": "code",
   "execution_count": 4,
   "metadata": {
    "collapsed": true
   },
   "outputs": [],
   "source": [
    "# The directory where files are stored\n",
    "# NOTE : ONLY FILES in specific format\n",
    "# can be read. So make sure you download\n",
    "# using the procedure defined in the \n",
    "# \"download_files\" notebook.\n",
    "rawFileDir = \"/tmp/timed/\" # Make sure you have this dir or create it\n",
    "prcsdFileDir = \"/tmp/timed/prcsd/\" # Make sure you have this dir or create it\n",
    "currDate = datetime.datetime( 2002, 3, 18 )\n",
    "endDate = datetime.datetime( 2002, 3, 18 )\n",
    "tDelta = datetime.timedelta(days=1)\n",
    "while currDate <= endDate:\n",
    "    for root, dirs, files in os.walk(rawFileDir):\n",
    "        for nd, dd in enumerate(dirs):\n",
    "            if currDate.strftime(\"%Y%m%d\") not in dd:\n",
    "                continue\n",
    "            print \"processing data --> \",\\\n",
    "                     currDate.strftime(\"%Y-%m-%d\")\n",
    "            tgRdObj = read_timed_guvi.ProcessTGData( [root + dd + \"/\"],\\\n",
    "                         prcsdFileDir, currDate )\n",
    "            tgRdObj.processed_data_to_file()\n",
    "    currDate += tDelta"
   ]
  },
  {
   "cell_type": "code",
   "execution_count": null,
   "metadata": {
    "collapsed": true
   },
   "outputs": [],
   "source": []
  }
 ],
 "metadata": {
  "kernelspec": {
   "display_name": "Python 2",
   "language": "python",
   "name": "python2"
  },
  "language_info": {
   "codemirror_mode": {
    "name": "ipython",
    "version": 2
   },
   "file_extension": ".py",
   "mimetype": "text/x-python",
   "name": "python",
   "nbconvert_exporter": "python",
   "pygments_lexer": "ipython2",
   "version": "2.7.6"
  }
 },
 "nbformat": 4,
 "nbformat_minor": 2
}
